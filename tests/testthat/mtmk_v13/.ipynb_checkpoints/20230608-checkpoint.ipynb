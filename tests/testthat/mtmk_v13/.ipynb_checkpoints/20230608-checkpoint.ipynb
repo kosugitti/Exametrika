{
 "cells": [
  {
   "cell_type": "code",
   "execution_count": 6,
   "id": "be816dba",
   "metadata": {},
   "outputs": [
    {
     "data": {
      "text/html": [
       "<div><img alt=\"Output\" src=\"data:image/png;base64,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\"></div>"
      ],
      "text/plain": [
       "＃ IRTの関数とデータファイルの関数を読み込む"
      ]
     },
     "execution_count": 6,
     "metadata": {
      "text/html": [],
      "text/plain": []
     },
     "output_type": "execute_result"
    }
   ],
   "source": [
    "＃ IRTの関数とデータファイルの関数を読み込む\n",
    "\n",
    "irt[a_, b_, c_, d_, e_, theta_] := \n",
    "  c + (d - c)/(1 + Exp[-a (theta - b)])^e;\n",
    "infoyen[a_, b_, c_, d_, \n",
    "   x_] := (a^2*(d - c)^2)/((c + d*Exp[a*(x - b)])*(1 - \n",
    "       c + (1 - d)*Exp[a*(x - b)])*(1 + Exp[-a*(x - b)])^2);\n",
    "slopeprior[a_, m_, s_] := -(Log[Max[a, const]] - m)^2/(2*s^2) - \n",
    "  Log[Max[a, const]] - Log[s]\n",
    "asymprior[c_, alp_, bet_] := (alp - 1)*Log[c] + (bet - 1)*Log[1 - c];\n",
    "binorm[x1_, x2_, rho_] := \n",
    "  CDF[MultinormalDistribution[{0, 0}, {{1, rho}, {rho, 1}}], {x1, x2}];\n",
    "condnorm[xj_, zeta_, rho_] := \n",
    "  CDF[NormalDistribution[rho*zeta, Sqrt[1 - rho^2]], xj];\n",
    "\n",
    "dataformat[data0_] := Module[{data = data0},\n",
    "   Which[IntegerQ[itemlabelrow] == False, Print[invalidrow]; Exit[],\n",
    "    itemlabelrow <= 0, Print[invalidrow]; Exit[]];\n",
    "   Which[IntegerQ[studentIDcolumn] == False, Print[invalidcol]; Exit[],\n",
    "    studentIDcolumn <= 0, Print[invalidcol]; Exit[]];\n",
    "   \n",
    "   itemlabel = Drop[data[[itemlabelrow]], studentIDcolumn];\n",
    "   doublelabelcheck[itemlabel, datafile];\n",
    "   \n",
    "   testlength = Length[itemlabel];\n",
    "   studentID = Drop[data[[All, studentIDcolumn]], itemlabelrow];\n",
    "   samplesize = Length[studentID];\n",
    "   uuu = data[[studentIDcolumn + 1 ;; -1, itemlabelrow + 1 ;; -1]];\n",
    "   zzz = Abs[Sign[uuu - mi]];\n",
    "   uuu *= zzz;\n",
    "   \n",
    "   excludeitems = \n",
    "    Flatten[Join[Position[Total[uuu], samplesize], \n",
    "      Position[Total[uuu], 0]]];\n",
    "   includeitems = \n",
    "    Complement[Table[j, {j, 1, testlength}], excludeitems];\n",
    "   \n",
    "   itemlabel = itemlabel[[includeitems]];\n",
    "   testlength = Length[itemlabel];\n",
    "   If[testlength <= 3, Print[leasttestlength]; Exit[]];\n",
    "   zzz = zzz[[All, includeitems]];\n",
    "   uuu = uuu[[All, includeitems]];\n",
    "   ];\n"
   ]
  },
  {
   "cell_type": "code",
   "execution_count": 14,
   "id": "a56f61c3",
   "metadata": {},
   "outputs": [
    {
     "data": {
      "text/html": [
       "<div><img alt=\"Output\" src=\"data:image/png;base64,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\"></div>"
      ],
      "text/plain": [
       "Itemの基礎統計量関数 #1"
      ]
     },
     "execution_count": 14,
     "metadata": {
      "text/html": [],
      "text/plain": []
     },
     "output_type": "execute_result"
    }
   ],
   "source": [
    "# Itemの基礎統計量関数\n",
    "itemstat[data0_] := Module[{data = data0},\n",
    "   dataformat[data];\n",
    "   \n",
    "   (*Student*)\n",
    "   numberofresponses = Total[zzz, {2}];\n",
    "   totalscore = Total[uuu, {2}];\n",
    "   passagerate = N[totalscore/numberofresponses];\n",
    "   standardizedscore = Standardize[passagerate];\n",
    "   outputstudentlabel = {\"Student\", \"Number of Responses\", \n",
    "     \"Number-Right Score\", \"Passage Rate\", \"Standardized Score\"};\n",
    "   outputstudent = \n",
    "    Prepend[Transpose[{studentID, numberofresponses, totalscore, \n",
    "       passagerate, standardizedscore}], outputstudentlabel];\n",
    "   \n",
    "   Print[\"Test Statistics\"];\n",
    "   meanTS = N[Mean[totalscore]];\n",
    "   varTS = N[Variance[totalscore]];\n",
    "   sdTS = N[Sqrt[varTS]];\n",
    "   meanofSETS = sdTS/Sqrt[samplesize];\n",
    "   skewTS = N[Skewness[totalscore]];\n",
    "   kurtTS = N[Kurtosis[totalscore]];\n",
    "   minTS = Min[totalscore];\n",
    "   maxTS = Max[totalscore];\n",
    "   outputtestlabel = {\"N of Items\", \"Sample Size\", \"Mean\", \n",
    "     \"SE of Mean\", \"SD\", \"Skewness\", \"Kurtosis\", \"Min\", \"Max\"};\n",
    "   outputtest = \n",
    "    Transpose[{outputtestlabel, {testlength, samplesize, meanTS, \n",
    "       meanofSETS, sdTS, skewTS, kurtTS, minTS, maxTS}}];\n",
    "   Print[MatrixForm[outputtest]];\n",
    "   outputtest = \n",
    "    Join[{{\"Author\", \"SHOJIMA Kojiro\"}, {\"Analysis Date\", \n",
    "       DateString[CurrentDate[]]}}, outputtest];\n",
    "   \n",
    "   Print[\"Item Statistics\"];\n",
    "   itemsamplesize = Total[zzz];\n",
    "   crr = N[Total[uuu]/itemsamplesize];\n",
    "   itemthreshold = InverseCDF[NormalDistribution[0, 1], 1 - crr];\n",
    "   dev = zzz*(uuu - Outer[Times, Table[1, {samplesize}], crr]);\n",
    "   var = Total[dev^2]/(itemsamplesize - 1);\n",
    "   sd = Sqrt[var];\n",
    "   itc = Transpose[dev] . standardizedscore/sd/itemsamplesize;\n",
    "   outputitemlabel = {\"Item\", \"Number of Respondents\", \n",
    "     \"Correct Response Rate\", \"Item Threshold\", \n",
    "     \"Item-Total Correlation\"};\n",
    "   outputitem = \n",
    "    Prepend[Transpose[{itemlabel, itemsamplesize, crr, itemthreshold, \n",
    "       itc}], outputitemlabel];\n",
    "   Print[MatrixForm[outputitem]];\n",
    "   ];"
   ]
  },
  {
   "cell_type": "code",
   "execution_count": 16,
   "id": "9ec44c11",
   "metadata": {},
   "outputs": [],
   "source": [
    "itemlabelrow = 1;\n",
    "studentIDcolumn = 1;\n",
    "mi = -99;\n",
    "data = Import[\"J15S500.csv\", \"CSV\"];\n",
    "model = 2;"
   ]
  },
  {
   "cell_type": "code",
   "execution_count": 21,
   "id": "916906f9",
   "metadata": {},
   "outputs": [
    {
     "name": "stdout",
     "output_type": "stream",
     "text": [
      "Test Statistics\n",
      "N of Items    15\n",
      "\n",
      "Sample Size   500\n",
      "\n",
      "Mean          9.664\n",
      "\n",
      "SE of Mean    0.119074\n",
      "\n",
      "SD            2.66257\n",
      "\n",
      "Skewness      -0.411622\n",
      "\n",
      "Kurtosis      2.55284\n",
      "\n",
      "Min           2\n",
      "\n",
      "Max           15\n",
      "Item Statistics\n",
      "Item                     Number of Respondents    Correct Response Rate\n",
      " \n",
      ">       Item Threshold           Item-Total Correlation\n",
      "\n",
      "Item01                   500                      0.746\n",
      " \n",
      ">       -0.661955                0.374648\n",
      "\n",
      "Item02                   500                      0.754\n",
      " \n",
      ">       -0.687131                0.393205\n",
      "\n",
      "Item03                   500                      0.726\n",
      " \n",
      ">       -0.60076                 0.3213\n",
      "\n",
      "Item04                   500                      0.776\n",
      " \n",
      ">       -0.758754                0.502824\n",
      "\n",
      "Item05                   500                      0.804\n",
      " \n",
      ">       -0.855996                0.329054\n",
      "\n",
      "Item06                   500                      0.864\n",
      " \n",
      ">       -1.09847                 0.37686\n",
      "\n",
      "Item07                   500                      0.716\n",
      " \n",
      ">       -0.570999                0.483067\n",
      "\n",
      "Item08                   500                      0.588\n",
      " \n",
      ">       -0.222403                0.405215\n",
      "\n",
      "Item09                   500                      0.364\n",
      " \n",
      ">       0.347787                 0.22482\n",
      "\n",
      "Item10                   500                      0.662\n",
      " \n",
      ">       -0.417928                0.314446\n",
      "\n",
      "Item11                   500                      0.286\n",
      " \n",
      ">       0.565108                 0.455081\n",
      "\n",
      "Item12                   500                      0.274\n",
      " \n",
      ">       0.60076                  0.467784\n",
      "\n",
      "Item13                   500                      0.634\n",
      " \n",
      ">       -0.342466                0.47125\n",
      "\n",
      "Item14                   500                      0.764\n",
      " \n",
      ">       -0.719229                0.484841\n",
      "\n",
      "Item15                   500                      0.706\n",
      " \n",
      ">       -0.541737                0.412775\n"
     ]
    }
   ],
   "source": [
    "itemstat[data];"
   ]
  },
  {
   "cell_type": "code",
   "execution_count": 22,
   "id": "94524673",
   "metadata": {},
   "outputs": [],
   "source": [
    "　　　slope = itc*2;\n",
    "   loc = itemthreshold*2;\n",
    "   onevec = Table[1, {testlength}];\n",
    "   loasym = If[model >= 3, 0.05, 0]*onevec;\n",
    "   upasym = If[model >= 4, 0.95, 1]*onevec;\n",
    "   paramset = Transpose[{slope, loc, loasym, upasym}];\n",
    "   quadmax = 3.2;\n",
    "   quadincr = .4;\n",
    "   nquad = quadmax/quadincr*2 + 1;\n",
    "   quadrature = Table[-quadmax + quadincr*(q - 1), {q, 1, nquad}];\n",
    "   const = Exp[-testlength];\n",
    "   loglike = -1/const;\n",
    "   oldloglike = -2/const;\n",
    "   itemloglike = Table[loglike/testlength, {testlength}];\n",
    "   emt = 0;\n",
    "   maxemt = 25;"
   ]
  },
  {
   "cell_type": "code",
   "execution_count": 38,
   "id": "ec931925",
   "metadata": {},
   "outputs": [
    {
     "data": {
      "text/html": [
       "<div><pre style=\"&#102;&#111;&#110;&#116;&#45;&#102;&#97;&#109;&#105;&#108;&#121;&#58;&#32;&#34;&#67;&#111;&#117;&#114;&#105;&#101;&#114;&#32;&#78;&#101;&#119;&#34;&#44;&#67;&#111;&#117;&#114;&#105;&#101;&#114;&#44;&#109;&#111;&#110;&#111;&#115;&#112;&#97;&#99;&#101;&#59;\">&#123;&#48;&#46;&#55;&#52;&#57;&#50;&#57;&#54;&#44;&#32;&#48;&#46;&#55;&#56;&#54;&#52;&#48;&#57;&#44;&#32;&#48;&#46;&#54;&#52;&#50;&#54;&#48;&#49;&#44;&#32;&#49;&#46;&#48;&#48;&#53;&#54;&#53;&#44;&#32;&#48;&#46;&#54;&#53;&#56;&#49;&#48;&#56;&#44;&#32;&#48;&#46;&#55;&#53;&#51;&#55;&#50;&#44;&#32;&#48;&#46;&#57;&#54;&#54;&#49;&#51;&#52;&#44;&#32;&#48;&#46;&#56;&#49;&#48;&#52;&#51;&#44;&#32;&#48;&#46;&#52;&#52;&#57;&#54;&#52;&#49;&#44;&#32;&#10;&#32;&#10;&#62;&#32;&#32;&#32;&#48;&#46;&#54;&#50;&#56;&#56;&#57;&#49;&#44;&#32;&#48;&#46;&#57;&#49;&#48;&#49;&#54;&#50;&#44;&#32;&#48;&#46;&#57;&#51;&#53;&#53;&#54;&#56;&#44;&#32;&#48;&#46;&#57;&#52;&#50;&#53;&#44;&#32;&#48;&#46;&#57;&#54;&#57;&#54;&#56;&#51;&#44;&#32;&#48;&#46;&#56;&#50;&#53;&#53;&#52;&#57;&#125;</pre></div>"
      ],
      "text/plain": [
       "{0.749296, 0.786409, 0.642601, 1.00565, 0.658108, 0.75372, 0.966134, 0.81043, 0.449641, \n",
       " \n",
       ">   0.628891, 0.910162, 0.935568, 0.9425, 0.969683, 0.825549}"
      ]
     },
     "execution_count": 38,
     "metadata": {
      "text/html": [],
      "text/plain": []
     },
     "output_type": "execute_result"
    }
   ],
   "source": [
    "slope"
   ]
  },
  {
   "cell_type": "code",
   "execution_count": 39,
   "id": "df0cc093",
   "metadata": {},
   "outputs": [
    {
     "data": {
      "text/html": [
       "<div><pre style=\"&#102;&#111;&#110;&#116;&#45;&#102;&#97;&#109;&#105;&#108;&#121;&#58;&#32;&#34;&#67;&#111;&#117;&#114;&#105;&#101;&#114;&#32;&#78;&#101;&#119;&#34;&#44;&#67;&#111;&#117;&#114;&#105;&#101;&#114;&#44;&#109;&#111;&#110;&#111;&#115;&#112;&#97;&#99;&#101;&#59;\">&#123;&#45;&#49;&#46;&#51;&#50;&#51;&#57;&#49;&#44;&#32;&#45;&#49;&#46;&#51;&#55;&#52;&#50;&#54;&#44;&#32;&#45;&#49;&#46;&#50;&#48;&#49;&#53;&#50;&#44;&#32;&#45;&#49;&#46;&#53;&#49;&#55;&#53;&#49;&#44;&#32;&#45;&#49;&#46;&#55;&#49;&#49;&#57;&#57;&#44;&#32;&#45;&#50;&#46;&#49;&#57;&#54;&#57;&#52;&#44;&#32;&#45;&#49;&#46;&#49;&#52;&#50;&#44;&#32;&#45;&#48;&#46;&#52;&#52;&#52;&#56;&#48;&#54;&#44;&#32;&#10;&#32;&#10;&#62;&#32;&#32;&#32;&#48;&#46;&#54;&#57;&#53;&#53;&#55;&#52;&#44;&#32;&#45;&#48;&#46;&#56;&#51;&#53;&#56;&#53;&#53;&#44;&#32;&#49;&#46;&#49;&#51;&#48;&#50;&#50;&#44;&#32;&#49;&#46;&#50;&#48;&#49;&#53;&#50;&#44;&#32;&#45;&#48;&#46;&#54;&#56;&#52;&#57;&#51;&#51;&#44;&#32;&#45;&#49;&#46;&#52;&#51;&#56;&#52;&#54;&#44;&#32;&#45;&#49;&#46;&#48;&#56;&#51;&#52;&#55;&#125;</pre></div>"
      ],
      "text/plain": [
       "{-1.32391, -1.37426, -1.20152, -1.51751, -1.71199, -2.19694, -1.142, -0.444806, \n",
       " \n",
       ">   0.695574, -0.835855, 1.13022, 1.20152, -0.684933, -1.43846, -1.08347}"
      ]
     },
     "execution_count": 39,
     "metadata": {
      "text/html": [],
      "text/plain": []
     },
     "output_type": "execute_result"
    }
   ],
   "source": [
    "loc"
   ]
  },
  {
   "cell_type": "code",
   "execution_count": 40,
   "id": "806069c4",
   "metadata": {},
   "outputs": [
    {
     "data": {
      "text/html": [
       "<div><pre style=\"&#102;&#111;&#110;&#116;&#45;&#102;&#97;&#109;&#105;&#108;&#121;&#58;&#32;&#34;&#67;&#111;&#117;&#114;&#105;&#101;&#114;&#32;&#78;&#101;&#119;&#34;&#44;&#67;&#111;&#117;&#114;&#105;&#101;&#114;&#44;&#109;&#111;&#110;&#111;&#115;&#112;&#97;&#99;&#101;&#59;\">&#49;&#55;&#46;</pre></div>"
      ],
      "text/plain": [
       "17."
      ]
     },
     "execution_count": 40,
     "metadata": {
      "text/html": [],
      "text/plain": []
     },
     "output_type": "execute_result"
    }
   ],
   "source": [
    "nquad"
   ]
  },
  {
   "cell_type": "code",
   "execution_count": 41,
   "id": "d108f887",
   "metadata": {},
   "outputs": [
    {
     "data": {
      "text/html": [
       "<div><pre style=\"&#102;&#111;&#110;&#116;&#45;&#102;&#97;&#109;&#105;&#108;&#121;&#58;&#32;&#34;&#67;&#111;&#117;&#114;&#105;&#101;&#114;&#32;&#78;&#101;&#119;&#34;&#44;&#67;&#111;&#117;&#114;&#105;&#101;&#114;&#44;&#109;&#111;&#110;&#111;&#115;&#112;&#97;&#99;&#101;&#59;\">&#123;&#45;&#51;&#46;&#50;&#44;&#32;&#45;&#50;&#46;&#56;&#44;&#32;&#45;&#50;&#46;&#52;&#44;&#32;&#45;&#50;&#46;&#44;&#32;&#45;&#49;&#46;&#54;&#44;&#32;&#45;&#49;&#46;&#50;&#44;&#32;&#45;&#48;&#46;&#56;&#44;&#32;&#45;&#48;&#46;&#52;&#44;&#32;&#48;&#46;&#44;&#32;&#48;&#46;&#52;&#44;&#32;&#48;&#46;&#56;&#44;&#32;&#49;&#46;&#50;&#44;&#32;&#49;&#46;&#54;&#44;&#32;&#50;&#46;&#44;&#32;&#50;&#46;&#52;&#44;&#32;&#50;&#46;&#56;&#44;&#32;&#10;&#32;&#10;&#62;&#32;&#32;&#32;&#51;&#46;&#50;&#125;</pre></div>"
      ],
      "text/plain": [
       "{-3.2, -2.8, -2.4, -2., -1.6, -1.2, -0.8, -0.4, 0., 0.4, 0.8, 1.2, 1.6, 2., 2.4, 2.8, \n",
       " \n",
       ">   3.2}"
      ]
     },
     "execution_count": 41,
     "metadata": {
      "text/html": [],
      "text/plain": []
     },
     "output_type": "execute_result"
    }
   ],
   "source": [
    "quadrature"
   ]
  },
  {
   "cell_type": "code",
   "execution_count": 42,
   "id": "0caf9585",
   "metadata": {},
   "outputs": [
    {
     "data": {
      "text/html": [
       "<div><img alt=\"Output\" src=\"data:image/png;base64,iVBORw0KGgoAAAANSUhEUgAAADIAAABGCAIAAAAB7lAxAAAAzXpUWHRSYXcgcHJvZmlsZSB0eXBlIGV4aWYAAHjabU9bDgMhCPz3FD0CAg56HLdrk96gxy+4po1Nx8hjGEDTeD0f6RbgTEmLVTSAHNq0cfeg0oXLZ2rTTgivWt75pFh8d6p8CxiLP3belp7rzyBaGyQ2eCy6GsbnBZPP/cqPpede6z6o0YZPmv/nKsYoyKZulckMzeOaPHSHwlQMD9wBF2acTHp3P2DmbbBQSI/GAA/b1SNBnDjjCxJXpLvHtNVbs58uMvl4zOF8m9X4zhsXXVqZ/dbJVAAAAAlwSFlzAAAWJQAAFiUBSVIk8AAAADx0RVh0U29mdHdhcmUAQ3JlYXRlZCB3aXRoIHRoZSBXb2xmcmFtIExhbmd1YWdlIDogd3d3LndvbGZyYW0uY29tXKKmhQAAACF0RVh0Q3JlYXRpb24gVGltZQAyMDIzOjA2OjA4IDExOjMzOjQ3OiWP7QAAA+pJREFUaIHtmc1LKlEUwM9YiGVGhWKKIn1YFEZFKBkIFm3aGUUQLSIliKQIbNGmVtFfUFsXFQRF9EFItNB2UWELoYRKTBJBhrQoHc1w3sLeIDr63jSTRsxvdWfmePxx73jmzBXBcRx+HpxiC5Dzq7WCweDq6mpXV5dcLl9ZWaGfsJTm5w8ODubm5h4eHogzLy8vNHMC/dny+XzpTkxBV2tmZubjLxKJhBEnoL+ICIKUlJQQY9o+n/zqXyLjsFpUYLWowGpR4Ydq0ary0Wg0Ho8Th8lkEgAikUg4HP7MXloqEAi+khqnweTkZP7k9fX1X8tMaxG5XG7+gI+Pj69lRthengKsFhVYLSqwWlRgtajAalHhh2pl9luXl5dF8VCr1emHmR1EX19fYX0+sdvt6YdsY0MFVosKrBYVfrsWiqLb29tGo7GiokKn02UH6PX6kiy8Xi9pNrp7pwRWq3VhYSE1Tr1eZ/D09CQUCicmJtJP5nznpvNWnQ6GYaFQKBQKlZeX9/T0ZAdIpVK9Xv+f2RibLR6Px+PxIPd+czgcFovF/5mNMa38xGIxDMP8fr/FYgkEArW1tTqdbnBwMOeeOVOLSMDn87MXMRgMAgCHw+ns7FSpVKmv7u/vTyQSpEkKpIXjuMPhuLu7S43v7++1Wi0ArK2tFVkrg93dXQAYGxsjvVq0cqrRaAAgGo2SXi2Q1t7e3s3NTfoZq9UKWU0pATNtoMfj2dnZSY2XlpakUunU1BQAiEQik8mUSCQUCkU4HDaZTL29vclk8ujoaGNjQ6FQXF1dVVdXk2Rk5H6y2WykukqlMhXg9XpHR0fLyso+JwNBDAaDx+PJlfDfs3V6emq3210uVzweb2lp0Wg0IyMjHM5XVh/DMK/X+/7+rlQq+Xx+vtA8cxAIBIaHh4lIiUSi1Wo5HI5arXa5XIxMcy5yakUiEZVKVVNTYzabEQSZnZ3FMAzHcbfb3d7eLpPJUBQtgtb09DSXy3U6nZWVlQMDA+mXUBQVCoXj4+OF1komkyKRyGw2O51OANja2soIWFxclMvl36dF/qi+vr5GUdRgMJydnQHA+fl5RtW5uLjw+/2xWCzVNTAOudbr6ysAiMXi4+NjAPD7/RkBAoFgaGiI+PO8QFqtra0Igrjd7o6ODgRB1tfXiZJTIHKtblNTU3d39+3tLQBsbm5+321ESk6tw8NDADAajTKZrLGxMaMcvL297e/vF0ELx/H5+XliUtva2hwOx/Pz88nJicViqaqq4vF4Pp+vCFo4jttstrq6uox1l8lky8vL31pO//1MxHH88fExVTIaGhqam5uFQiHTd3gm7P4WFX6o1h/VuP+FnWx55AAAAABJRU5ErkJggg==\"></div>"
      ],
      "text/plain": [
       " -15\n",
       "E"
      ]
     },
     "execution_count": 42,
     "metadata": {
      "text/html": [],
      "text/plain": []
     },
     "output_type": "execute_result"
    }
   ],
   "source": [
    "const"
   ]
  },
  {
   "cell_type": "code",
   "execution_count": 43,
   "id": "ccfdd7c8",
   "metadata": {},
   "outputs": [
    {
     "data": {
      "text/html": [
       "<div><img alt=\"Output\" src=\"data:image/png;base64,iVBORw0KGgoAAAANSUhEUgAAADoAAAAiCAIAAACBXF2JAAAAz3pUWHRSYXcgcHJvZmlsZSB0eXBlIGV4aWYAAHjabY9ZDsMgDET/OUWP4AXGcBySEKk36PFrFrWi6kTxmOclIbTX8w6PLmEKMVlGAcgVSyxSPck0NZ2pjDikddV450Fk8eoofQtoix87N0yX/LOI1iLtX/Bc4xpYi1Qm5/Unx+qXmvO+qNCmz5H/n6OaIIEteoxCZiie5+CpG5JQMtw4AW9kXELxdG8w8zFY79DaB7uk2d7dAtTB1a+g/VWt7hgx+yj7U1UHTwo5nJdR7dd5A1RUWsIhooUtAAAACXBIWXMAABYlAAAWJQFJUiTwAAAAPHRFWHRTb2Z0d2FyZQBDcmVhdGVkIHdpdGggdGhlIFdvbGZyYW0gTGFuZ3VhZ2UgOiB3d3cud29sZnJhbS5jb21coqaFAAAAIXRFWHRDcmVhdGlvbiBUaW1lADIwMjM6MDY6MDggMTE6MzM6NTZUOY46AAADUUlEQVRYhe2WwUvyYBjAn82PWJmhMbFkIVEWgREdlAwEgy7djCKIoEgvldBBO3SpU/9CVy8FRRFFhERERgRRYAehgkpGNIQYaVE2U9i+w2SfbSHf1+Y+g36n12ePD79tz973QTiOg+8D+r8F/g1VdWmaXltb83q91dXVLpdLmuB2uzUSSJIUEn6paAuhUGh2dpZfsywrTXh8fMRxfHx8vDCo0+n+/OBUhGGYZDKZTCarqqq6u7ulCWaz2e12F6mg6tPFMAzDMABAEOTThFQqZTKZilRQVbc4mUyGYRiKooLBYCKRqKurc7lc/f39H+6tZG++GFqtVtoMDw8PAICiaGdnp81m4/V6e3tzuZyQU0a6HMdFIpGbmxt+fXt763Q6AWBxcVFIKC9dERsbGwAwMjIiRMr6mHA4HADw9vYmRMpId3Nz8/LysjASCoUAwG63CxGEU2tmiMfj6+vr/Hp+ft5sNk9MTACA0Wj0+Xy5XM5isaRSKZ/P19PTw7Lszs7O0tKSxWI5Pz83GAz5KiXs0I+Ew+FPb8NqtfIJJEkODw9XVlbycQRBPB5PPB4vLKLM0z08PDw4OIjFYu/v721tbQ6HY2hoCEW/0mkMw5Akmc1mrVarVqsVX5b5zBKJxODgoFCtvr7e6XSiKGq322OxmMziUmTpptNpm81WW1vr9/sRBJmenmYYhuO4q6urjo4OgiBomlbIM48s3ampqYqKimg0WlNT09fXV3iJpmkcx8fGxmTZSfi6LsuyRqPR7/dHo1EAWFlZESXMzc01NDTI0xOTH3H29/ePjo6KfAGBQECv1xdGLi4uaJr2eDwnJycAcHp6Kto1z87OKIrKZDL8FKYIeV2SJI+Pj4vkTU5OinRfXl4AwGQy7e7uAgBFUaK/6HS6gYEBjUajlCvIOSaen58NBsPq6mo2mx0dHU2n08KWWULkdFJLS0tXV9f19TUALC8vK9SfxZClu729DQBer5cgiObmZtG29fr6urW1JU9PjNxjYmZmRnhR7e3tkUjk6elpb28vGAzq9XoMw+7u7hQR5VFgZgiHw42NjaIeIwhiYWFB8WNCmZmB47j7+3t+a2tqamptbcVxXH5ZKeoNkIpQRuP53/CjW0p+dEvJN9P9DTQemHCU9UVIAAAAAElFTkSuQmCC\"></div>"
      ],
      "text/plain": [
       "  15\n",
       "-E"
      ]
     },
     "execution_count": 43,
     "metadata": {
      "text/html": [],
      "text/plain": []
     },
     "output_type": "execute_result"
    }
   ],
   "source": [
    "loglike"
   ]
  },
  {
   "cell_type": "code",
   "execution_count": 44,
   "id": "786b17f6",
   "metadata": {},
   "outputs": [
    {
     "data": {
      "text/html": [
       "<div><img alt=\"Output\" src=\"data:image/png;base64,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\"></div>"
      ],
      "text/plain": [
       "    15\n",
       "-2 E"
      ]
     },
     "execution_count": 44,
     "metadata": {
      "text/html": [],
      "text/plain": []
     },
     "output_type": "execute_result"
    }
   ],
   "source": [
    "oldloglike"
   ]
  },
  {
   "cell_type": "code",
   "execution_count": 45,
   "id": "6f4ed24e",
   "metadata": {},
   "outputs": [
    {
     "data": {
      "text/html": [
       "<div><img alt=\"Output\" src=\"data:image/png;base64,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\"></div>"
      ],
      "text/plain": [
       "   1    15    1    15    1    15    1    15    1    15    1    15    1    15    1    15\n",
       "{-(--) E  , -(--) E  , -(--) E  , -(--) E  , -(--) E  , -(--) E  , -(--) E  , -(--) E  , \n",
       "   15         15         15         15         15         15         15         15\n",
       " \n",
       "      1    15    1    15    1    15    1    15    1    15    1    15    1    15\n",
       ">   -(--) E  , -(--) E  , -(--) E  , -(--) E  , -(--) E  , -(--) E  , -(--) E  }\n",
       "      15         15         15         15         15         15         15"
      ]
     },
     "execution_count": 45,
     "metadata": {
      "text/html": [],
      "text/plain": []
     },
     "output_type": "execute_result"
    }
   ],
   "source": [
    "itemloglike"
   ]
  },
  {
   "cell_type": "code",
   "execution_count": null,
   "id": "87f9498f",
   "metadata": {},
   "outputs": [],
   "source": [
    "    emt += 1;\n",
    "    oldloglike = loglike;\n",
    "    lpj = \n",
    "     Table[Log[\n",
    "       irt[paramset[[j, 1]], paramset[[j, 2]], paramset[[j, 3]], \n",
    "         paramset[[j, 4]], 1, quadrature] + const], {j, 1, \n",
    "       testlength}];(* J\\[Times]Q *)\n",
    "    \n",
    "    \n",
    "lpj\n"
   ]
  },
  {
   "cell_type": "code",
   "execution_count": null,
   "id": "189e3190",
   "metadata": {},
   "outputs": [
    {
     "ename": "Set::write",
     "evalue": "Tag Times in lqj print[{{-1.62503, -1.39186, -1.17546, -0.978184, -0.801923, -0.647801, -0.516006, -0.405753, -0.315419, -0.242787, -0.185344, -0.140541, -0.105997, -0.0796061, -0.0595904, -0.0444955, -0.0331609}, {-1.64922, -1.40329, -1.17569, -0.969157, -0.785842, -0.626971, -0.492624, -0.381712, -0.292182, -0.221349, -0.166269, -0.124047, -0.0920548, -0.0680328, -0.0501224, -0.0368403, -0.0270302}, {-1.52863, -1.33321, -1.1506, -0.982253, -0.829352, -0.692658, -0.572437, -0.468418, -0.379834, -0.305508, -0.243984, -0.193667, -0.152941, -0.120267, -0.094247, -0.0736498, -0.057425}, {-1.86102, -1.53295, -1.23227, -0.964901, -0.735486, -0.546187, -0.396083, -0.281439, -0.196706, -0.135745, -0.0927956, -0.0630058, -0.0425751, -0.0286742, -0.0192682, -0.0129277, -0.00866449}, {-1.29815, -1.11392, -0.944949, -0.792401, -0.656974, -0.538799, -0.437421, -0.351862, -0.280739, -0.222419, -0.175165, -0.137267, -0.107132, -0.0833378, -0.0646581, -0.0500607, -0.0386953}, {-1.14097, -0.946023, -0.772598, -0.621681, -0.493278, -0.386418, -0.299307, -0.229607, -0.17473, -0.132107, -0.0993657, -0.0744377, -0.0555898, -0.0414155, -0.0307997, -0.0228738, -0.0169703}, {-2.11663, -1.78544, -1.47514, -1.19116, -0.938669, -0.721557, -0.541523, -0.397619, -0.286506, -0.203285, -0.142511, -0.0990036, -0.0683236, -0.0469273, -0.0321237, -0.0219387, -0.0149587}, {-2.33474, -2.04697, -1.77106, -1.51, -1.26703, -1.04527, -0.847399, -0.675155, -0.529061, -0.408303, -0.310894, -0.234031, -0.174522, -0.12917, -0.0950436, -0.0696198, -0.0508239}, {-1.91159, -1.76045, -1.61392, -1.47255, -1.33689, -1.2075, -1.08487, -0.969486, -0.861703, -0.761804, -0.669945, -0.586158, -0.510345, -0.442284, -0.381645, -0.328007, -0.280882}, {-1.69062, -1.49047, -1.30135, -1.12476, -0.962022, -0.814191, -0.681936, -0.565456, -0.464465, -0.378219, -0.305604, -0.245253, -0.195671, -0.155342, -0.122819, -0.0967776, -0.0760485}, {-3.96042, -3.60469, -3.25251, -2.90529, -2.56498, -2.23413, -1.91603, -1.6146, -1.33431, -1.07968, -0.854671, -0.661894, -0.502038, -0.373698, -0.27371, -0.197835, -0.141504}, {-4.13405, -3.76707, -3.40329, -3.04405, -2.69121, -2.34729, -2.01556, -1.70005, -1.40547, -1.13679, -0.898507, -0.693858, -0.524017, -0.387823, -0.282068, -0.202238, -0.143379}, {-2.45978, -2.12116, -1.79761, -1.49374, -1.2146, -0.965045, -0.748842, -0.56786, -0.421584, -0.307247, -0.220506, -0.156337, -0.109814, -0.0766044, -0.0531701, -0.0367726, -0.0253678}, {-1.87467, -1.55697, -1.26429, -1.00202, -0.774533, -0.584201, -0.430761, -0.31139, -0.221438, -0.155447, -0.108055, -0.0745721, -0.0511981, -0.0350218, -0.0238954, -0.016275, -0.0110713}, {-1.90792, -1.63414, -1.37749, -1.14138, -0.928915, -0.742402, -0.582966, -0.450305, -0.342758, -0.257623, -0.19162, -0.141335, -0.103563, -0.0755052, -0.0548403, -0.0397187, -0.0287069}}] is Protected.",
     "output_type": "error",
     "traceback": [
      "\u001b[0;31mSet::write: Tag Times in lqj print[{{-1.62503, -1.39186, -1.17546, -0.978184, -0.801923, -0.647801, -0.516006, -0.405753, -0.315419, -0.242787, -0.185344, -0.140541, -0.105997, -0.0796061, -0.0595904, -0.0444955, -0.0331609}, {-1.64922, -1.40329, -1.17569, -0.969157, -0.785842, -0.626971, -0.492624, -0.381712, -0.292182, -0.221349, -0.166269, -0.124047, -0.0920548, -0.0680328, -0.0501224, -0.0368403, -0.0270302}, {-1.52863, -1.33321, -1.1506, -0.982253, -0.829352, -0.692658, -0.572437, -0.468418, -0.379834, -0.305508, -0.243984, -0.193667, -0.152941, -0.120267, -0.094247, -0.0736498, -0.057425}, {-1.86102, -1.53295, -1.23227, -0.964901, -0.735486, -0.546187, -0.396083, -0.281439, -0.196706, -0.135745, -0.0927956, -0.0630058, -0.0425751, -0.0286742, -0.0192682, -0.0129277, -0.00866449}, {-1.29815, -1.11392, -0.944949, -0.792401, -0.656974, -0.538799, -0.437421, -0.351862, -0.280739, -0.222419, -0.175165, -0.137267, -0.107132, -0.0833378, -0.0646581, -0.0500607, -0.0386953}, {-1.14097, -0.946023, -0.772598, -0.621681, -0.493278, -0.386418, -0.299307, -0.229607, -0.17473, -0.132107, -0.0993657, -0.0744377, -0.0555898, -0.0414155, -0.0307997, -0.0228738, -0.0169703}, {-2.11663, -1.78544, -1.47514, -1.19116, -0.938669, -0.721557, -0.541523, -0.397619, -0.286506, -0.203285, -0.142511, -0.0990036, -0.0683236, -0.0469273, -0.0321237, -0.0219387, -0.0149587}, {-2.33474, -2.04697, -1.77106, -1.51, -1.26703, -1.04527, -0.847399, -0.675155, -0.529061, -0.408303, -0.310894, -0.234031, -0.174522, -0.12917, -0.0950436, -0.0696198, -0.0508239}, {-1.91159, -1.76045, -1.61392, -1.47255, -1.33689, -1.2075, -1.08487, -0.969486, -0.861703, -0.761804, -0.669945, -0.586158, -0.510345, -0.442284, -0.381645, -0.328007, -0.280882}, {-1.69062, -1.49047, -1.30135, -1.12476, -0.962022, -0.814191, -0.681936, -0.565456, -0.464465, -0.378219, -0.305604, -0.245253, -0.195671, -0.155342, -0.122819, -0.0967776, -0.0760485}, {-3.96042, -3.60469, -3.25251, -2.90529, -2.56498, -2.23413, -1.91603, -1.6146, -1.33431, -1.07968, -0.854671, -0.661894, -0.502038, -0.373698, -0.27371, -0.197835, -0.141504}, {-4.13405, -3.76707, -3.40329, -3.04405, -2.69121, -2.34729, -2.01556, -1.70005, -1.40547, -1.13679, -0.898507, -0.693858, -0.524017, -0.387823, -0.282068, -0.202238, -0.143379}, {-2.45978, -2.12116, -1.79761, -1.49374, -1.2146, -0.965045, -0.748842, -0.56786, -0.421584, -0.307247, -0.220506, -0.156337, -0.109814, -0.0766044, -0.0531701, -0.0367726, -0.0253678}, {-1.87467, -1.55697, -1.26429, -1.00202, -0.774533, -0.584201, -0.430761, -0.31139, -0.221438, -0.155447, -0.108055, -0.0745721, -0.0511981, -0.0350218, -0.0238954, -0.016275, -0.0110713}, {-1.90792, -1.63414, -1.37749, -1.14138, -0.928915, -0.742402, -0.582966, -0.450305, -0.342758, -0.257623, -0.19162, -0.141335, -0.103563, -0.0755052, -0.0548403, -0.0397187, -0.0287069}}] is Protected.\u001b[0m"
     ]
    }
   ],
   "source": [
    "!     (Label[emtop];\n",
    "!    If[loglike - oldloglike <= 0.00001*Abs[oldloglike], Goto[emend]];\n",
    "!    If[emt == maxemt, Goto[emend]];\n",
    "    \n",
    "    lqj = \n",
    "     Table[Log[\n",
    "       1 - irt[paramset[[j, 1]], paramset[[j, 2]], paramset[[j, 3]], \n",
    "         paramset[[j, 4]], 1, quadrature] + const], {j, 1, \n",
    "       testlength}];(* J\\[Times]Q *)\n",
    "    postthetanume = \n",
    "     Exp[(zzz*uuu) . lpj + (zzz*(1 - uuu)) . lqj - \n",
    "       Table[quadrature^2/2, {samplesize}]];(* S\\[Times]Q *)\n",
    "    postthetadenom = Total[Transpose[postthetanume]];(* S\\[Times]1 *)\n",
    "    posttheta = postthetanume/postthetadenom;(* S\\[Times]Q *)\n",
    "    marginalposttheta = Total[posttheta];(* Q\\[Times]1 *)\n",
    "    qjtrue = Transpose[uuu] . posttheta;(* J\\[Times]Q *)\n",
    "    qjfalse = Transpose[zzz*(1 - uuu)] . posttheta;(* J\\[Times]Q *)\n",
    "    exlogmax = Table[\n",
    "      Which[model == 2,\n",
    "       exloglike = \n",
    "        Total[qjtrue[[j]]*Log[irt[a, b, 0, 1, 1, quadrature]] + \n",
    "          qjfalse[[j]]*Log[1 - irt[a, b, 0, 1, 1, quadrature]]];\n",
    "       exloglike += -(b/2)^2/2 + slopeprior[a, 0, .5];\n",
    "       Cases[\n",
    "        FindMaximum[{exloglike, -5 <= b <= 5}, {{a, \n",
    "           paramset[[j, 1]]}, {b, paramset[[j, 2]]}}, \n",
    "         PrecisionGoal -> 5, AccuracyGoal -> 5], _Real, Infinity],\n",
    "       model == 3,\n",
    "       exloglike = \n",
    "        Total[qjtrue[[j]]*Log[irt[a, b, c, 1, 1, quadrature]] + \n",
    "          qjfalse[[j]]*Log[1 - irt[a, b, c, 1, 1, quadrature]]];\n",
    "       exloglike += -(b/2)^2/2 + slopeprior[a, 0, .5] + \n",
    "         asymprior[c, 2, 5];\n",
    "       Cases[\n",
    "        FindMaximum[{exloglike, -5 <= b <= 5, \n",
    "          0 <= c <= 1}, {{a, paramset[[j, 1]]}, {b, \n",
    "           paramset[[j, 2]]}, {c, paramset[[j, 3]]}}, \n",
    "         PrecisionGoal -> 5, AccuracyGoal -> 5], _Real, Infinity],\n",
    "       model == 4,\n",
    "       exloglike = \n",
    "        Total[qjtrue[[j]]*Log[irt[a, b, c, d, 1, quadrature]] + \n",
    "          qjfalse[[j]]*Log[1 - irt[a, b, c, d, 1, quadrature]]];\n",
    "       exloglike += -(b/2)^2/2 + slopeprior[a, 0, .5] + \n",
    "         asymprior[c, 2, 5] + asymprior[d, 10, 2];\n",
    "       Cases[\n",
    "        FindMaximum[{exloglike, -5 <= b <= 5, \n",
    "          0 <= c < d <= 1}, {{a, paramset[[j, 1]]}, {b, \n",
    "           paramset[[j, 2]]}, {c, paramset[[j, 3]]}, {d, \n",
    "           paramset[[j, 4]]}}, PrecisionGoal -> 5, \n",
    "         AccuracyGoal -> 5], _Real, Infinity]], {j, testlength, \n",
    "       1, -1}];\n",
    "    exlogmax = Reverse[exlogmax];\n",
    "    Do[paramset[[All, p]] = exlogmax[[All, p + 1]], {p, 1, model}];\n",
    "    itemloglike = exlogmax[[All, 1]];\n",
    "    loglike = Total[itemloglike];\n",
    "    Goto[emtop];\n",
    "    Label[emend];);"
   ]
  },
  {
   "cell_type": "code",
   "execution_count": null,
   "id": "2cd8c4ce",
   "metadata": {},
   "outputs": [],
   "source": [
    "\n",
    "   se = Table[0, {testlength}, {model}];\n",
    "   se = Table[\n",
    "     info = -Total[\n",
    "         marginalposttheta*irt[a, b, c, d, 1, quadrature]*\n",
    "           D[Log[irt[a, b, c, d, 1, quadrature]], {{a, b, c, d}, 2}] +\n",
    "           marginalposttheta*(1 - irt[a, b, c, d, 1, quadrature])*\n",
    "           D[Log[1 - irt[a, b, c, d, 1, quadrature]], {{a, b, c, d}, \n",
    "             2}]] - D[-(b/2)^2/2 + slopeprior[a, 0, .5] + \n",
    "         If[model >= 3, asymprior[c, 2, 5], 0] + \n",
    "         If[model >= 4, asymprior[d, 10, 2]], {{a, b, c, d}, 2}];\n",
    "     info = \n",
    "      info //. a -> paramset[[j, 1]] //. b -> paramset[[j, 2]] //. \n",
    "        c -> paramset[[j, 3]] //. d -> paramset[[j, 4]];\n",
    "     info = info[[1 ;; model, 1 ;; model]];\n",
    "     Sqrt[Diagonal[Inverse[info]]], {j, testlength, 1, -1}];\n",
    "   se = Reverse[se];\n",
    "   theta50 = theta50 = Table[\n",
    "      Which[paramset[[j, 3]] > .5, -Infinity,\n",
    "       paramset[[j, 4]] < .5, Infinity,\n",
    "       True, (Log[1 - 2*paramset[[j, 3]]] - \n",
    "           Log[2*paramset[[j, 4]] - 1])/paramset[[j, 1]] + \n",
    "        paramset[[j, 2]]], {j, 1, testlength}];\n",
    "   outputparamset = \n",
    "    Prepend[paramset, {\"Slope\", \"Location\", \"Lower Asymptote\", \n",
    "      \"Upper Asymptote\"}];\n",
    "   outputse = \n",
    "    Prepend[se, \n",
    "     Take[{\"PSD(Slope)\", \"PSD(Loc)\", \"PSD(LA)\", \"PSD(UA)\"}, model]];\n",
    "   outputparamset = outputparamset[[All, 1 ;; model]];\n",
    "   outputparam = \n",
    "    Transpose[\n",
    "     Join[{Prepend[itemlabel, \"Item\"]}, Transpose[outputparamset], \n",
    "      Transpose[outputse]]];\n",
    "   Print[MatrixForm[outputparam]];"
   ]
  },
  {
   "cell_type": "code",
   "execution_count": null,
   "id": "3d9fe66c",
   "metadata": {},
   "outputs": [],
   "source": [
    "   eapscore = posttheta . quadrature;\n",
    "   psd = \n",
    "    Diagonal[\n",
    "     posttheta . \n",
    "      Transpose[(Table[quadrature, {samplesize}] - eapscore)^2]];\n",
    "   outputstudentIRTlabel = {\"EAP Score\", \"Posterior SD\"};\n",
    "   outputstudentIRT = \n",
    "    PadRight[\n",
    "     outputstudent, {samplesize + 1, \n",
    "      Length[outputstudentlabel] + Length[outputstudentIRTlabel]}, \"\"];\n",
    "   outputstudentIRT[[1, Length[outputstudentlabel] + 1 ;; -1]] = \n",
    "    outputstudentIRTlabel;\n",
    "   outputstudentIRT[[2 ;; -1, Length[outputstudentlabel] + 1 ;; -1]] =\n",
    "     Transpose[{eapscore, psd}];"
   ]
  }
 ],
 "metadata": {
  "kernelspec": {
   "display_name": "Wolfram Language 13.2",
   "language": "Wolfram Language",
   "name": "wolframlanguage13.2"
  },
  "language_info": {
   "codemirror_mode": "mathematica",
   "file_extension": ".m",
   "mimetype": "application/vnd.wolfram.m",
   "name": "Wolfram Language",
   "pygments_lexer": "mathematica",
   "version": "12.0"
  }
 },
 "nbformat": 4,
 "nbformat_minor": 5
}
