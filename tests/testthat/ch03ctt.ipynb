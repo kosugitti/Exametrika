{
 "cells": [
  {
   "cell_type": "code",
   "execution_count": null,
   "metadata": {
    "vscode": {
     "languageId": "plaintext"
    }
   },
   "outputs": [
    {
     "ename": "",
     "evalue": "",
     "output_type": "error",
     "traceback": [
      "\u001b[1;31mカーネルを起動できませんでした。 \n",
      "\u001b[1;31mカーネルが停止しました。エラー: ...詳細については、Jupyter [log] (command:jupyter.viewOutput) を参照してください。"
     ]
    }
   ],
   "source": [
    "dataformat[data0_] := Module[{data = data0},\n",
    "   Which[IntegerQ[itemlabelrow] == False, Print[invalidrow]; Exit[],\n",
    "    itemlabelrow <= 0, Print[invalidrow]; Exit[]];\n",
    "   Which[IntegerQ[studentIDcolumn] == False, Print[invalidcol]; Exit[],\n",
    "    studentIDcolumn <= 0, Print[invalidcol]; Exit[]];\n",
    "   \n",
    "   itemlabel = Drop[data[[itemlabelrow]], studentIDcolumn];\n",
    "   doublelabelcheck[itemlabel, datafile];\n",
    "   \n",
    "   testlength = Length[itemlabel];\n",
    "   studentID = Drop[data[[All, studentIDcolumn]], itemlabelrow];\n",
    "   samplesize = Length[studentID];\n",
    "   uuu = data[[studentIDcolumn + 1 ;; -1, itemlabelrow + 1 ;; -1]];\n",
    "   zzz = Abs[Sign[uuu - mi]];\n",
    "   uuu *= zzz;\n",
    "   \n",
    "   excludeitems = \n",
    "    Flatten[Join[Position[Total[uuu], samplesize], \n",
    "      Position[Total[uuu], 0]]];\n",
    "   includeitems = \n",
    "    Complement[Table[j, {j, 1, testlength}], excludeitems];\n",
    "   \n",
    "   itemlabel = itemlabel[[includeitems]];\n",
    "   testlength = Length[itemlabel];\n",
    "   If[testlength <= 3, Print[leasttestlength]; Exit[]];\n",
    "   zzz = zzz[[All, includeitems]];\n",
    "   uuu = uuu[[All, includeitems]];\n",
    "   ];"
   ]
  },
  {
   "cell_type": "code",
   "execution_count": null,
   "metadata": {
    "vscode": {
     "languageId": "plaintext"
    }
   },
   "outputs": [
    {
     "ename": "",
     "evalue": "",
     "output_type": "error",
     "traceback": [
      "\u001b[1;31mカーネルを起動できませんでした。 \n",
      "\u001b[1;31mカーネルが停止しました。エラー: ...詳細については、Jupyter [log] (command:jupyter.viewOutput) を参照してください。"
     ]
    }
   ],
   "source": [
    "data = Import[\"tests/testthat/sampleData/J20S400.csv\",\"CSV\"]"
   ]
  },
  {
   "cell_type": "code",
   "execution_count": null,
   "metadata": {
    "vscode": {
     "languageId": "plaintext"
    }
   },
   "outputs": [
    {
     "ename": "",
     "evalue": "",
     "output_type": "error",
     "traceback": [
      "\u001b[1;31mカーネルを起動できませんでした。 \n",
      "\u001b[1;31mカーネルが停止しました。エラー: ...詳細については、Jupyter [log] (command:jupyter.viewOutput) を参照してください。"
     ]
    }
   ],
   "source": [
    "itemlabelrow = 1;\n",
    "studentIDcolumn = 1;\n",
    "mi = -99;\n",
    "itemlabel = Drop[data[[itemlabelrow]], studentIDcolumn];\n",
    "testlength = Length[itemlabel];\n",
    "studentID = Drop[data[[All, studentIDcolumn]], itemlabelrow];\n",
    "samplesize = Length[studentID];\n",
    "uuu = data[[studentIDcolumn + 1 ;; -1, itemlabelrow + 1 ;; -1]];\n",
    "zzz = Abs[Sign[uuu - mi]];\n",
    "uuu *= zzz;\n",
    "\n",
    "excludeitems = \n",
    "  Flatten[Join[Position[Total[uuu], samplesize], \n",
    "    Position[Total[uuu], 0]]];\n",
    "includeitems = Complement[Table[j, {j, 1, testlength}], excludeitems];\n",
    "\n",
    "itemlabel = itemlabel[[includeitems]];\n",
    "testlength = Length[itemlabel];\n",
    "If[testlength <= 3, Print[leasttestlength]; Exit[]];\n",
    "zzz = zzz[[All, includeitems]];\n",
    "uuu = uuu[[All, includeitems]];"
   ]
  },
  {
   "cell_type": "code",
   "execution_count": null,
   "metadata": {
    "vscode": {
     "languageId": "plaintext"
    }
   },
   "outputs": [
    {
     "ename": "",
     "evalue": "",
     "output_type": "error",
     "traceback": [
      "\u001b[1;31mカーネルを起動できませんでした。 \n",
      "\u001b[1;31mカーネルが停止しました。エラー: ...詳細については、Jupyter [log] (command:jupyter.viewOutput) を参照してください。"
     ]
    }
   ],
   "source": [
    "itemsamplesize = Total[zzz];\n",
    "crr = N[Total[uuu]/itemsamplesize];\n",
    "dev = zzz*(uuu - Outer[Times, Table[1, {samplesize}], crr]);\n",
    "var = Total[dev^2]/(itemsamplesize - 1);\n",
    "sd = Sqrt[var];\n",
    "cov = Transpose[dev] . dev/(jointsamplesize - 1);\n",
    "phi = cov/Outer[Times, sd, sd];\n",
    "tetra = Table[0, {testlength}, {testlength}];\n",
    "itc = Transpose[dev] . standardizedscore/sd/itemsamplesize;"
   ]
  },
  {
   "cell_type": "code",
   "execution_count": null,
   "metadata": {
    "vscode": {
     "languageId": "plaintext"
    }
   },
   "outputs": [
    {
     "ename": "",
     "evalue": "",
     "output_type": "error",
     "traceback": [
      "\u001b[1;31mカーネルを起動できませんでした。 \n",
      "\u001b[1;31mカーネルが停止しました。エラー: ...詳細については、Jupyter [log] (command:jupyter.viewOutput) を参照してください。"
     ]
    }
   ],
   "source": [
    "itc"
   ]
  },
  {
   "cell_type": "code",
   "execution_count": null,
   "metadata": {
    "vscode": {
     "languageId": "plaintext"
    }
   },
   "outputs": [
    {
     "ename": "",
     "evalue": "",
     "output_type": "error",
     "traceback": [
      "\u001b[1;31mカーネルを起動できませんでした。 \n",
      "\u001b[1;31mカーネルが停止しました。エラー: ...詳細については、Jupyter [log] (command:jupyter.viewOutput) を参照してください。"
     ]
    }
   ],
   "source": [
    "numberofresponses = Total[zzz, {2}];\n",
    "totalscore = Total[uuu, {2}];\n",
    "passagerate = N[totalscore/numberofresponses];\n",
    "standardizedscore = Standardize[passagerate];\n",
    "sttally = Sort[Tally[standardizedscore]];\n",
    "cumsttally = Accumulate[sttally[[All, 2]]];\n",
    "aaa = standardizedscore;\n",
    "Do[aaa = aaa /. sttally[[s, 1]] -> cumsttally[[s]], {s, 1, \n",
    "   Length[cumsttally]}];\n",
    "percentilerank = Ceiling[aaa/samplesize*100];\n",
    "staninedivision = {4, 11, 23, 40, 60, 77, 89, 96, \n",
    "   100};(*from Table 2.4*)\n",
    "stanine = \n",
    "  Total[Sign[\n",
    "     Sign[percentilerank - \n",
    "        Table[Drop[staninedivision, -1], {samplesize}]] + 1], {2}] + 1;"
   ]
  }
 ],
 "metadata": {
  "kernelspec": {
   "display_name": "Wolfram Language 13.2",
   "language": "Wolfram Language",
   "name": "wolframlanguage13.2"
  },
  "language_info": {
   "codemirror_mode": "mathematica",
   "file_extension": ".m",
   "mimetype": "application/vnd.wolfram.m",
   "name": "Wolfram Language",
   "pygments_lexer": "mathematica",
   "version": "12.0"
  },
  "orig_nbformat": 4
 },
 "nbformat": 4,
 "nbformat_minor": 2
}
